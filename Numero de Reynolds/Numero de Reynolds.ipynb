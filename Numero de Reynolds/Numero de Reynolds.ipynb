{
 "cells": [
  {
   "cell_type": "markdown",
   "id": "d39cf168",
   "metadata": {},
   "source": [
    "# Número de Reynolds"
   ]
  },
  {
   "cell_type": "markdown",
   "id": "009f6048",
   "metadata": {},
   "source": [
    "Es un parámetro adimensional en mecánica de fluidos que describe la relación entre las fuerzas de inercia y las fuerzas de viscosidad en un fluido en movimiento. Se utiliza para determinar el régimen de flujo en un canal o en un tubo, y puede ayudar a predecir si el flujo es laminar, turbulento o de transición.\n",
    "\n",
    "El número de Reynolds se define como el cociente entre el producto de la velocidad característica del fluido, la longitud característica y la viscosidad dinámica del fluido, y es una medida de la relación entre las fuerzas inerciales y las fuerzas viscosas.\n",
    "\n",
    "Es una herramienta importante en la investigación y el diseño de sistemas de conducción de fluidos, ya que puede ayudar a determinar la estabilidad y la eficiencia del flujo. Además, el número de Reynolds también es relevante en la investigación en biología, donde se utiliza para describir el flujo de fluidos en los vasos sanguíneos, tejidos biológicos, entre otros."
   ]
  },
  {
   "cell_type": "markdown",
   "id": "c6d7d956-a223-436f-b712-88e6a6e9ddda",
   "metadata": {},
   "source": [
    "\\begin{equation} R_e = \\frac{Fuerzas Inerciales}{Fuerzas Viscosas}= \\frac{\\rho*D*V}{\\mu} = \\frac{V*D}{\\nu} \\tag{1} \\end{equation}"
   ]
  },
  {
   "cell_type": "markdown",
   "id": "1fea7cd0-7cbb-4042-908e-9bb5f3871e2b",
   "metadata": {},
   "source": [
    "Donde:  \n",
    "* $\\rho$; Densidad del Fluido  \n",
    "* $V$; Velocidad del fluido  \n",
    "* $\\nu$; Viscosidad cinemática del fluido  \n",
    "* $\\mu$; Viscosidad dinámica del fluido  \n",
    "* $D$; Diámetro interno de la tubería  "
   ]
  },
  {
   "cell_type": "markdown",
   "id": "fb18cc3a",
   "metadata": {},
   "source": [
    "#### 1. Cálculo de número de Reynolds en tuberías"
   ]
  },
  {
   "cell_type": "markdown",
   "id": "f15ba623-056a-41b2-9a93-57b23a30e2be",
   "metadata": {},
   "source": [
    "Con las siguientes líneas de comando puedes saber si un flujo es turbulento, laminar o se encuentra en transición usando Python."
   ]
  },
  {
   "cell_type": "code",
   "execution_count": 1,
   "id": "20a99f08",
   "metadata": {},
   "outputs": [
    {
     "name": "stdout",
     "output_type": "stream",
     "text": [
      "1999999.0\n",
      "Flujo Turbulento\n"
     ]
    }
   ],
   "source": [
    "Densidad = 1000 #[kg/m3]\n",
    "Velocidad = 2 #[m/s]\n",
    "Viscosidad_dinámica = 0.001 #[kg/m-s]\n",
    "Longitud_característica = 1 #[m]\n",
    "\n",
    "Reynolds = Densidad * Longitud_característica * Velocidad // Viscosidad_dinámica\n",
    "print(Reynolds)\n",
    "\n",
    "if Reynolds > 4000:\n",
    "    print(\"Flujo Turbulento\")\n",
    "elif 2000 <= Reynolds <= 4000:\n",
    "    print(\"Flujo en Transición\")\n",
    "else:\n",
    "    print(\"Flujo Laminar\")"
   ]
  },
  {
   "cell_type": "markdown",
   "id": "8c4a433e",
   "metadata": {},
   "source": [
    "#### 2. Tabla de Viscosidades del agua a diferentes temperaturas"
   ]
  },
  {
   "cell_type": "markdown",
   "id": "dbab146c-cf9b-4cf7-9a0f-fc68356aba6c",
   "metadata": {},
   "source": [
    "A continuación compartimos tabla de de las propiedades del agua según la variación de la temperatura."
   ]
  },
  {
   "cell_type": "markdown",
   "id": "54a4985e-f42a-4d90-862e-f0b3106c35f5",
   "metadata": {},
   "source": [
    "<center><img src=\"./Imagenes/Propiedades del Agua.webp\" width=\"800\"/></center>"
   ]
  },
  {
   "cell_type": "code",
   "execution_count": 1,
   "outputs": [],
   "source": [],
   "metadata": {
    "collapsed": false
   }
  }
 ],
 "metadata": {
  "kernelspec": {
   "display_name": "Python 3 (ipykernel)",
   "language": "python",
   "name": "python3"
  },
  "language_info": {
   "codemirror_mode": {
    "name": "ipython",
    "version": 3
   },
   "file_extension": ".py",
   "mimetype": "text/x-python",
   "name": "python",
   "nbconvert_exporter": "python",
   "pygments_lexer": "ipython3",
   "version": "3.9.13"
  }
 },
 "nbformat": 4,
 "nbformat_minor": 5
}
